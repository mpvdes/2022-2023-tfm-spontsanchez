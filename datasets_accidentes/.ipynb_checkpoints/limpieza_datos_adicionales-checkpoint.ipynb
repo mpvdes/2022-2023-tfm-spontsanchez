{
 "cells": [
  {
   "cell_type": "code",
   "execution_count": null,
   "id": "fd694b21",
   "metadata": {},
   "outputs": [],
   "source": []
  },
  {
   "cell_type": "code",
   "execution_count": 13,
   "id": "9fb839d9",
   "metadata": {},
   "outputs": [],
   "source": [
    "import pandas as pd\n",
    "\n",
    "df = pd.read_csv(file)\n",
    "\n",
    "# Lista de rutas de archivos CSV en la carpeta\n",
    "csv_files = glob.glob('accidentes_causa_cond/*.csv')\n",
    "\n",
    "# Diccionario para almacenar los DataFrames de los archivos CSV\n",
    "dataframes = {}\n",
    "\n",
    "# Cargar archivos CSV en DataFrames y agregarlos al diccionario\n",
    "for file in csv_files:\n",
    "    df = pd.read_csv(file)\n",
    "    dataframe_name = filename.split('.')[0]  # Eliminar la extensión para usar como clave\n",
    "    dataframes[dataframe_name] = df\n",
    "\n",
    "# Ahora el diccionario 'dataframes' contiene los DataFrames indexados por los nombres de los archivos"
   ]
  }
 ],
 "metadata": {
  "kernelspec": {
   "display_name": "Python 3 (ipykernel)",
   "language": "python",
   "name": "python3"
  },
  "language_info": {
   "codemirror_mode": {
    "name": "ipython",
    "version": 3
   },
   "file_extension": ".py",
   "mimetype": "text/x-python",
   "name": "python",
   "nbconvert_exporter": "python",
   "pygments_lexer": "ipython3",
   "version": "3.11.1"
  }
 },
 "nbformat": 4,
 "nbformat_minor": 5
}
